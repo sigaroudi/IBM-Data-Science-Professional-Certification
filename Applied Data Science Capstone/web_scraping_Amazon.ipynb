{
  "cells": [
    {
      "cell_type": "code",
      "execution_count": null,
      "id": "a834b810-413f-4fb4-b8d0-e4485670e317",
      "metadata": {
        "id": "a834b810-413f-4fb4-b8d0-e4485670e317"
      },
      "outputs": [],
      "source": [
        "#pip request"
      ]
    },
    {
      "cell_type": "code",
      "execution_count": null,
      "id": "3e547e90-b248-4e36-9b99-7ed19e36affa",
      "metadata": {
        "id": "3e547e90-b248-4e36-9b99-7ed19e36affa",
        "outputId": "21247e7f-0489-4b4b-919a-a1d71c468a12"
      },
      "outputs": [
        {
          "name": "stdout",
          "output_type": "stream",
          "text": [
            "Requirement already satisfied: bs4 in c:\\users\\nasim\\anaconda3\\lib\\site-packages (0.0.2)\n",
            "Requirement already satisfied: beautifulsoup4 in c:\\users\\nasim\\anaconda3\\lib\\site-packages (from bs4) (4.11.1)\n",
            "Requirement already satisfied: soupsieve>1.2 in c:\\users\\nasim\\anaconda3\\lib\\site-packages (from beautifulsoup4->bs4) (2.3.1)\n",
            "Note: you may need to restart the kernel to use updated packages.\n"
          ]
        }
      ],
      "source": [
        "pip install bs4"
      ]
    },
    {
      "cell_type": "code",
      "execution_count": null,
      "id": "996d2b96-d035-46b1-b045-a723ba3153f3",
      "metadata": {
        "id": "996d2b96-d035-46b1-b045-a723ba3153f3"
      },
      "outputs": [],
      "source": [
        "import requests\n",
        "from bs4 import BeautifulSoup\n",
        "import pandas as pd"
      ]
    },
    {
      "cell_type": "code",
      "execution_count": null,
      "id": "19d39308-c913-4232-b62c-2d8063ed8abb",
      "metadata": {
        "id": "19d39308-c913-4232-b62c-2d8063ed8abb"
      },
      "outputs": [],
      "source": [
        "url=\"https://www.amazon.nl/s?k=mobile+samsung&language=en_GB&__mk_nl_NL=%C3%85M%C3%85%C5%BD%C3%95%C3%91&crid=3RSZ462GGZJES&sprefix=mobile+samsung%2Caps%2C75&ref=nb_sb_noss_1\""
      ]
    },
    {
      "cell_type": "code",
      "execution_count": null,
      "id": "bc814b72-d9aa-4b00-8e6a-a14bbe32d190",
      "metadata": {
        "id": "bc814b72-d9aa-4b00-8e6a-a14bbe32d190"
      },
      "outputs": [],
      "source": [
        "site = requests.get(url)"
      ]
    },
    {
      "cell_type": "code",
      "execution_count": null,
      "id": "eb2834d7-10f7-4176-a642-21f145c4589f",
      "metadata": {
        "id": "eb2834d7-10f7-4176-a642-21f145c4589f"
      },
      "outputs": [],
      "source": [
        "soup = BeautifulSoup(site.text, 'html.parser')"
      ]
    },
    {
      "cell_type": "code",
      "execution_count": null,
      "id": "f86d0a50-c58a-42ac-860f-df284a41752b",
      "metadata": {
        "tags": [],
        "id": "f86d0a50-c58a-42ac-860f-df284a41752b",
        "outputId": "1ea3c575-b247-42db-9167-3d16c72500c2",
        "colab": {
          "base_uri": "https://localhost:8080/"
        }
      },
      "outputs": [
        {
          "output_type": "execute_result",
          "data": {
            "text/plain": [
              "<html>\n",
              "<head>\n",
              "<title>500 - Er is iets misgegaan</title>\n",
              "</head>\n",
              "<body bgcolor=\"#FFFFFF\" text=\"#000000\">\n",
              "<center>\n",
              "<a href=\"https://www.amazon.nl/ref=cs_503_logo/\">\n",
              "<img alt=\"Amazon.nl\" border=\"0\" height=\"45\" src=\"https://images-eu.ssl-images-amazon.com/images/G/37/x-locale/communities/people/logo.gif\" width=\"200\"/></a>\n",
              "<p align=\"center\">\n",
              "<font face=\"Verdana,Arial,Helvetica\">\n",
              "<font color=\"#CC6600\" size=\"+2\"><b>Onze excuses</b></font><br/>\n",
              "<b>Er ging iets mis toen je verzoek in behandeling was.<br/>We verwachten dat we het probleem snel hebben opgelost. Als je een bestelling probeerde te plaatsen, is die niet verwerkt. Probeer het later nog een keer.\n",
              "            <br/><br/>Onze excuses voor het ongemak.</b></font>\n",
              "</p>\n",
              "<p>\n",
              "<font face=\"Verdana,Arial,Helvetica\">\n",
              "<img alt=\"*\" border=\"0\" height=\"9\" src=\"https://images-eu.ssl-images-amazon.com/images/G/37/x-locale/common/orange-arrow.gif\" width=\"10\"/>\n",
              "<b><a href=\"https://www.amazon.nl/ref=cs_503_link/\">Klik hier om naar de Amazon.nl-website te gaan</a></b></font>\n",
              "</p>\n",
              "</center>\n",
              "</body>\n",
              "</html>"
            ]
          },
          "metadata": {},
          "execution_count": 6
        }
      ],
      "source": [
        "soup"
      ]
    },
    {
      "cell_type": "code",
      "execution_count": null,
      "id": "3137c8a9-5da8-4f07-8d8e-9c9c558be55a",
      "metadata": {
        "id": "3137c8a9-5da8-4f07-8d8e-9c9c558be55a"
      },
      "outputs": [],
      "source": [
        "X= soup.find(\"div\", {\"class\":\"s-main-slot s-result-list s-search-results sg-row\"})\n",
        "X"
      ]
    },
    {
      "cell_type": "code",
      "execution_count": null,
      "id": "47444ab2-33b4-4d54-b82f-e7c4b7b78dd9",
      "metadata": {
        "scrolled": true,
        "id": "47444ab2-33b4-4d54-b82f-e7c4b7b78dd9",
        "outputId": "3f4643e3-5f8f-4bc9-bdc2-610afb12be87",
        "colab": {
          "base_uri": "https://localhost:8080/",
          "height": 162
        }
      },
      "outputs": [
        {
          "output_type": "error",
          "ename": "AttributeError",
          "evalue": "'NoneType' object has no attribute 'find_all'",
          "traceback": [
            "\u001b[0;31m---------------------------------------------------------------------------\u001b[0m",
            "\u001b[0;31mAttributeError\u001b[0m                            Traceback (most recent call last)",
            "\u001b[0;32m<ipython-input-8-efc323dbac3a>\u001b[0m in \u001b[0;36m<cell line: 1>\u001b[0;34m()\u001b[0m\n\u001b[0;32m----> 1\u001b[0;31m \u001b[0mX2\u001b[0m\u001b[0;34m=\u001b[0m\u001b[0mX\u001b[0m\u001b[0;34m.\u001b[0m\u001b[0mfind_all\u001b[0m\u001b[0;34m(\u001b[0m\u001b[0;34m\"span\"\u001b[0m\u001b[0;34m,\u001b[0m \u001b[0;34m{\u001b[0m\u001b[0;34m\"class\"\u001b[0m\u001b[0;34m:\u001b[0m \u001b[0;34m\"a-size-base-plus a-color-base a-text-normal\"\u001b[0m\u001b[0;34m}\u001b[0m\u001b[0;34m)\u001b[0m\u001b[0;34m\u001b[0m\u001b[0;34m\u001b[0m\u001b[0m\n\u001b[0m\u001b[1;32m      2\u001b[0m \u001b[0mX2\u001b[0m\u001b[0;34m\u001b[0m\u001b[0;34m\u001b[0m\u001b[0m\n",
            "\u001b[0;31mAttributeError\u001b[0m: 'NoneType' object has no attribute 'find_all'"
          ]
        }
      ],
      "source": [
        "X2=X.find_all(\"span\", {\"class\": \"a-size-base-plus a-color-base a-text-normal\"})\n",
        "X2"
      ]
    },
    {
      "cell_type": "code",
      "execution_count": null,
      "id": "733ac92c-5052-4e44-a901-931909ec20df",
      "metadata": {
        "id": "733ac92c-5052-4e44-a901-931909ec20df"
      },
      "outputs": [],
      "source": [
        "len(X2)"
      ]
    },
    {
      "cell_type": "code",
      "execution_count": null,
      "id": "772cf3a5-5c69-4f9d-bd6e-e88c04b3db51",
      "metadata": {
        "id": "772cf3a5-5c69-4f9d-bd6e-e88c04b3db51"
      },
      "outputs": [],
      "source": [
        "Title=[]\n",
        "for i in range (48):\n",
        "    Title.append(X2[i])"
      ]
    },
    {
      "cell_type": "code",
      "execution_count": null,
      "id": "c6c2f184",
      "metadata": {
        "scrolled": true,
        "id": "c6c2f184"
      },
      "outputs": [],
      "source": [
        "Title"
      ]
    },
    {
      "cell_type": "code",
      "execution_count": null,
      "id": "d56580be",
      "metadata": {
        "id": "d56580be"
      },
      "outputs": [],
      "source": [
        "df= pd.DataFrame(Title)"
      ]
    },
    {
      "cell_type": "code",
      "execution_count": null,
      "id": "8cae6c8e",
      "metadata": {
        "id": "8cae6c8e"
      },
      "outputs": [],
      "source": [
        "df"
      ]
    },
    {
      "cell_type": "code",
      "execution_count": null,
      "id": "feb8eb92",
      "metadata": {
        "id": "feb8eb92"
      },
      "outputs": [],
      "source": [
        "#df.to_excel(\"Samsung.xlsx\")"
      ]
    },
    {
      "cell_type": "code",
      "execution_count": null,
      "id": "15eab518",
      "metadata": {
        "id": "15eab518"
      },
      "outputs": [],
      "source": [
        "import os"
      ]
    },
    {
      "cell_type": "code",
      "execution_count": null,
      "id": "9bf5a5f7",
      "metadata": {
        "id": "9bf5a5f7"
      },
      "outputs": [],
      "source": [
        "os.getcwd()"
      ]
    },
    {
      "cell_type": "code",
      "execution_count": null,
      "id": "b5da8707",
      "metadata": {
        "scrolled": true,
        "id": "b5da8707"
      },
      "outputs": [],
      "source": [
        "X3=X.find_all(\"span\", {\"class\": \"a-price-whole\"})\n",
        "X3"
      ]
    },
    {
      "cell_type": "code",
      "execution_count": null,
      "id": "99e9747a",
      "metadata": {
        "id": "99e9747a"
      },
      "outputs": [],
      "source": [
        "len(X3)"
      ]
    },
    {
      "cell_type": "code",
      "execution_count": null,
      "id": "d9c1f053",
      "metadata": {
        "id": "d9c1f053"
      },
      "outputs": [],
      "source": [
        "Price=[]\n",
        "for i in range (35):\n",
        "    Price.append(X3[i])"
      ]
    },
    {
      "cell_type": "code",
      "execution_count": null,
      "id": "30f7903e",
      "metadata": {
        "id": "30f7903e"
      },
      "outputs": [],
      "source": []
    }
  ],
  "metadata": {
    "kernelspec": {
      "display_name": "Python 3 (ipykernel)",
      "language": "python",
      "name": "python3"
    },
    "language_info": {
      "codemirror_mode": {
        "name": "ipython",
        "version": 3
      },
      "file_extension": ".py",
      "mimetype": "text/x-python",
      "name": "python",
      "nbconvert_exporter": "python",
      "pygments_lexer": "ipython3",
      "version": "3.9.13"
    },
    "colab": {
      "provenance": []
    }
  },
  "nbformat": 4,
  "nbformat_minor": 5
}